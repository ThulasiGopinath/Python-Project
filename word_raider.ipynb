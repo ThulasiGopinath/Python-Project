{
 "cells": [
  {
   "cell_type": "code",
   "execution_count": 1,
   "id": "10384bb1-9607-42f3-8774-14e976375c1e",
   "metadata": {},
   "outputs": [],
   "source": [
    "grid = [\n",
    "    ['C', 'A', 'T', 'D'],\n",
    "    ['E', 'F', 'G', 'H'],\n",
    "    ['I', 'J', 'K', 'L'],\n",
    "    ['M', 'N', 'O', 'P']\n",
    "]\n"
   ]
  },
  {
   "cell_type": "code",
   "execution_count": 2,
   "id": "a7c2e16a-5fba-4c24-ae6c-ea806c6f9e3e",
   "metadata": {},
   "outputs": [],
   "source": [
    "words_to_find = ['CAT', 'DOG', 'FISH', 'BIRD']\n"
   ]
  },
  {
   "cell_type": "code",
   "execution_count": 3,
   "id": "99de3824-41ce-405a-8634-0fdf1ada478f",
   "metadata": {},
   "outputs": [],
   "source": [
    "def check_horizontal(grid, word):\n",
    "    for row in grid:\n",
    "        for i in range(len(row) - len(word) + 1):\n",
    "            if ''.join(row[i:i+len(word)]).upper() == word:\n",
    "                return True\n",
    "    return False"
   ]
  },
  {
   "cell_type": "code",
   "execution_count": 4,
   "id": "c2ca749b-0564-4513-9aeb-5b0956eefaec",
   "metadata": {},
   "outputs": [],
   "source": [
    "def check_vertical(grid, word):\n",
    "    transposed_grid = list(map(list, zip(*grid)))\n",
    "    for row in transposed_grid:\n",
    "        for i in range(len(row) - len(word) + 1):\n",
    "            if ''.join(row[i:i+len(word)]).upper() == word:\n",
    "                return True\n",
    "    return False"
   ]
  },
  {
   "cell_type": "code",
   "execution_count": 5,
   "id": "20b798fc-0228-4c24-bcdb-9cf00ec8ec89",
   "metadata": {},
   "outputs": [],
   "source": [
    "def word_raider():\n",
    "    print(\"Welcome to Word Raider!\")\n",
    "    print(\"Grid:\")\n",
    "    for row in grid:\n",
    "        print(row)\n",
    "\n",
    "    user_input = input(\"Enter a word to find: \").upper()\n",
    "\n",
    "    if check_horizontal(grid, user_input):\n",
    "        print(\"Word found horizontally!\")\n",
    "    elif check_vertical(grid, user_input):\n",
    "        print(\"Word found vertically!\")\n",
    "    else:\n",
    "        print(\"Word not found.\")"
   ]
  },
  {
   "cell_type": "code",
   "execution_count": 6,
   "id": "b175dfd2-35de-428c-853c-ed347f3cb301",
   "metadata": {},
   "outputs": [
    {
     "name": "stdout",
     "output_type": "stream",
     "text": [
      "Welcome to Word Raider!\n",
      "Grid:\n",
      "['C', 'A', 'T', 'D']\n",
      "['E', 'F', 'G', 'H']\n",
      "['I', 'J', 'K', 'L']\n",
      "['M', 'N', 'O', 'P']\n"
     ]
    },
    {
     "name": "stdin",
     "output_type": "stream",
     "text": [
      "Enter a word to find:  cat\n"
     ]
    },
    {
     "name": "stdout",
     "output_type": "stream",
     "text": [
      "Word found horizontally!\n"
     ]
    }
   ],
   "source": [
    "word_raider()"
   ]
  },
  {
   "cell_type": "code",
   "execution_count": null,
   "id": "43a146da-0876-46a2-b0c5-97d7003fec15",
   "metadata": {},
   "outputs": [],
   "source": []
  }
 ],
 "metadata": {
  "kernelspec": {
   "display_name": "Python 3 (ipykernel)",
   "language": "python",
   "name": "python3"
  },
  "language_info": {
   "codemirror_mode": {
    "name": "ipython",
    "version": 3
   },
   "file_extension": ".py",
   "mimetype": "text/x-python",
   "name": "python",
   "nbconvert_exporter": "python",
   "pygments_lexer": "ipython3",
   "version": "3.10.6"
  }
 },
 "nbformat": 4,
 "nbformat_minor": 5
}
